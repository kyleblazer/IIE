{
  "nbformat": 4,
  "nbformat_minor": 0,
  "metadata": {
    "colab": {
      "name": "EmissionsCalculator.ipynb",
      "provenance": [],
      "collapsed_sections": [],
      "toc_visible": true,
      "authorship_tag": "ABX9TyMeSQNj4nmJQWb2WLALuZeT",
      "include_colab_link": true
    },
    "kernelspec": {
      "name": "python3",
      "display_name": "Python 3"
    },
    "language_info": {
      "name": "python"
    }
  },
  "cells": [
    {
      "cell_type": "markdown",
      "metadata": {
        "id": "view-in-github",
        "colab_type": "text"
      },
      "source": [
        "<a href=\"https://colab.research.google.com/github/kyleblazer/IIE/blob/main/EmissionsCalculator.ipynb\" target=\"_parent\"><img src=\"https://colab.research.google.com/assets/colab-badge.svg\" alt=\"Open In Colab\"/></a>"
      ]
    },
    {
      "cell_type": "markdown",
      "source": [
        "\n",
        "# Travel Emissions Calculator"
      ],
      "metadata": {
        "id": "A8_w70OhjeZH"
      }
    },
    {
      "cell_type": "code",
      "source": [
        "#@title Imports\n",
        "import pandas as pd\n",
        "\n",
        "vehicle_data = pd.read_csv(\"CO2 Emissions_Canada.csv\")\n",
        "flight_data = pd.read_csv(\"AirTravelEmissionsByMile.csv\")\n",
        "flight_data = flight_data.drop(\"lbs CO2e per km\", axis=1)\n",
        "\n",
        "\n",
        "# flight_data\n",
        "# vehicle_data.head()"
      ],
      "metadata": {
        "id": "tYtFh6IzA0o6",
        "cellView": "form"
      },
      "execution_count": 167,
      "outputs": []
    },
    {
      "cell_type": "code",
      "source": [
        "#@title Get Car CO2 Function\n",
        "def get_car_co2(make, model):\n",
        "  try:\n",
        "    for i, row in vehicle_data.iterrows():\n",
        "      if row['Make'] == make and row['Model'] == model:\n",
        "        return row['CO2 Emissions(g/km)']\n",
        "  except:\n",
        "    #average grams per km if car is not found\n",
        "    #https://www.epa.gov/greenvehicles/greenhouse-gas-emissions-typical-passenger-vehicle\n",
        "    return 251\n"
      ],
      "metadata": {
        "id": "MWc9VWAgA2cj",
        "cellView": "form"
      },
      "execution_count": 168,
      "outputs": []
    },
    {
      "cell_type": "code",
      "source": [
        "#@title Get Flight CO2 Function\n",
        "def get_flight_co2_lbs_emissions(distance, seating_type):\n",
        "  if distance == \"Short Haul\":\n",
        "    flight_emissions = flight_data[\"lbs co2e per mile (2022)\"].iloc[0]\n",
        "  elif distance == \"Medium Haul\" and seating_type == \"Average\":\n",
        "    flight_emissions = flight_data[\"lbs co2e per mile (2022)\"].iloc[1]\n",
        "  elif distance == \"Medium Haul\" and seating_type == \"Economy\":\n",
        "    flight_emissions = flight_data[\"lbs co2e per mile (2022)\"].iloc[2]\n",
        "  elif distance == \"Medium Haul\" and seating_type == \"Business/First\":\n",
        "    flight_emissions = flight_data[\"lbs co2e per mile (2022)\"].iloc[3]\n",
        "  elif distance == \"Long Haul\" and seating_type == \"Average\":\n",
        "    flight_emissions = flight_data[\"lbs co2e per mile (2022)\"].iloc[4]\n",
        "  elif distance == \"Long Haul\" and seating_type == \"Economy\":\n",
        "    flight_emissions = flight_data[\"lbs co2e per mile (2022)\"].iloc[5]\n",
        "  elif distance == \"Long Haul\" and seating_type == \"Premium economy\":\n",
        "    flight_emissions = flight_data[\"lbs co2e per mile (2022)\"].iloc[6]\n",
        "  elif distance == \"Long Haul\" and seating_type == \"Business\":\n",
        "    flight_emissions = flight_data[\"lbs co2e per mile (2022)\"].iloc[7]\n",
        "  elif distance == \"Long Haul\" and seating_type == \"First\":\n",
        "    flight_emissions = flight_data[\"lbs co2e per mile (2022)\"].iloc[8]\n",
        "  elif distance == \"Medium Haul\":\n",
        "    flight_emissions = flight_data[\"lbs co2e per mile (2022)\"].iloc[1]\n",
        "  elif distance == \"Long Haul\":\n",
        "    flight_emissions = flight_data[\"lbs co2e per mile (2022)\"].iloc[4]\n",
        "  return(flight_emissions)\n",
        "\n",
        "  \n"
      ],
      "metadata": {
        "id": "ZByuYkS_A5qq",
        "cellView": "form"
      },
      "execution_count": 169,
      "outputs": []
    },
    {
      "cell_type": "code",
      "source": [
        "#@title Grams per km to total tons function\n",
        "def grams_per_km_to_total_tons(grams_per_km, drive_distance):\n",
        "  return (grams_per_km*0.00220462*1.609344*0.0005*drive_distance)"
      ],
      "metadata": {
        "id": "T5cU3lUgBiqv",
        "cellView": "form"
      },
      "execution_count": 170,
      "outputs": []
    },
    {
      "cell_type": "code",
      "source": [
        "#@title Reset string and emissions data table\n",
        "printstring = \"Let's look at a summary of your travel emissions.\\n\"\n",
        "emissionsdata = []\n",
        "#RUN BEFORE DOING CODE BELOW\n"
      ],
      "metadata": {
        "id": "36Za-h8QDnD2",
        "cellView": "form"
      },
      "execution_count": 171,
      "outputs": []
    },
    {
      "cell_type": "code",
      "source": [
        "#@title Drive to airport inputs\n",
        "#drive to airport\n",
        "\n",
        "vehicle1_make = input(\"What was the make of the vehicle you took to the airport?\").upper()\n",
        "# print(vehicle1_make)\n",
        "\n",
        "vehicle1_model = input(\"What was the model of the vehicle you took to the airport?\").upper()\n",
        "# print(vehicle1_model)\n",
        "\n",
        "vehicle1_miles = int(input(\"How far was the drive from your home to the airport? (to nearest 1 mile)\"))\n",
        "drive1_emissions = grams_per_km_to_total_tons(get_car_co2(vehicle1_make, vehicle1_model), vehicle1_miles)\n",
        "printstring+= \"\\nOn the drive to the airport (Drive 1), you drove \"\n",
        "printstring+= str(vehicle1_miles)\n",
        "printstring+= \" miles in a \"\n",
        "printstring+= vehicle1_make +\" \"+vehicle1_model\n",
        "printstring+= \"\\nThat drive polluted \"\n",
        "printstring+= str(round(drive1_emissions,3))\n",
        "printstring+= \" tons of CO2\\n\"\n",
        "emissionsdata.append([\"Drive 1\",drive1_emissions])\n"
      ],
      "metadata": {
        "colab": {
          "base_uri": "https://localhost:8080/",
          "height": 287
        },
        "id": "HJTbdzCMlcFf",
        "outputId": "2c0519e4-9a6b-43e7-8f63-a247dc3905f3",
        "cellView": "form"
      },
      "execution_count": 172,
      "outputs": [
        {
          "name": "stdout",
          "output_type": "stream",
          "text": [
            "What was the make of the vehicle you took to the airport?\n",
            "What was the model of the vehicle you took to the airport?\n",
            "How far was the drive from your home to the airport? (to nearest 1 mile)\n"
          ]
        },
        {
          "output_type": "error",
          "ename": "ValueError",
          "evalue": "ignored",
          "traceback": [
            "\u001b[0;31m---------------------------------------------------------------------------\u001b[0m",
            "\u001b[0;31mValueError\u001b[0m                                Traceback (most recent call last)",
            "\u001b[0;32m<ipython-input-172-7ace0e2237c0>\u001b[0m in \u001b[0;36m<module>\u001b[0;34m()\u001b[0m\n\u001b[1;32m      8\u001b[0m \u001b[0;31m# print(vehicle1_model)\u001b[0m\u001b[0;34m\u001b[0m\u001b[0;34m\u001b[0m\u001b[0;34m\u001b[0m\u001b[0m\n\u001b[1;32m      9\u001b[0m \u001b[0;34m\u001b[0m\u001b[0m\n\u001b[0;32m---> 10\u001b[0;31m \u001b[0mvehicle1_miles\u001b[0m \u001b[0;34m=\u001b[0m \u001b[0mint\u001b[0m\u001b[0;34m(\u001b[0m\u001b[0minput\u001b[0m\u001b[0;34m(\u001b[0m\u001b[0;34m\"How far was the drive from your home to the airport? (to nearest 1 mile)\"\u001b[0m\u001b[0;34m)\u001b[0m\u001b[0;34m)\u001b[0m\u001b[0;34m\u001b[0m\u001b[0;34m\u001b[0m\u001b[0m\n\u001b[0m\u001b[1;32m     11\u001b[0m \u001b[0mdrive1_emissions\u001b[0m \u001b[0;34m=\u001b[0m \u001b[0mgrams_per_km_to_total_tons\u001b[0m\u001b[0;34m(\u001b[0m\u001b[0mget_car_co2\u001b[0m\u001b[0;34m(\u001b[0m\u001b[0mvehicle1_make\u001b[0m\u001b[0;34m,\u001b[0m \u001b[0mvehicle1_model\u001b[0m\u001b[0;34m)\u001b[0m\u001b[0;34m,\u001b[0m \u001b[0mvehicle1_miles\u001b[0m\u001b[0;34m)\u001b[0m\u001b[0;34m\u001b[0m\u001b[0;34m\u001b[0m\u001b[0m\n\u001b[1;32m     12\u001b[0m \u001b[0mprintstring\u001b[0m\u001b[0;34m+=\u001b[0m \u001b[0;34m\"\\nOn the drive to the airport (Drive 1), you drove \"\u001b[0m\u001b[0;34m\u001b[0m\u001b[0;34m\u001b[0m\u001b[0m\n",
            "\u001b[0;31mValueError\u001b[0m: invalid literal for int() with base 10: ''"
          ]
        }
      ]
    },
    {
      "cell_type": "code",
      "source": [
        "#@title Flight to destination inputs\n",
        "#flight to destination\n",
        "\n",
        "num_stops_to_destination = int(input(\"How many stops did you have on your departing air travel? (0, 1, 2 etc...)\"))\n",
        "legs_of_flight_to_destination = num_stops_to_destination+1\n",
        "loop = 1\n",
        "for i in range (legs_of_flight_to_destination):\n",
        "  if(legs_of_flight_to_destination>1):\n",
        "      print(\"How far did you fly on flight\",loop, \"(to the nearest mile)\")\n",
        "      flight_distance = int(input())\n",
        "      flight_class = input(\"What class did you fly on that flight? (Economy, Premium Economy, Business, First, Other)\")\n",
        "  else:\n",
        "    flight_distance = int(input(\"How far was your flight (to the nearest mile)\"))\n",
        "    flight_class = input(\"What class did you fly on that flight? (Economy, Premium Economy, Business, First, Other)\")\n",
        "  #set class_var\n",
        "  if (flight_class == \"Economy\"):\n",
        "    class_var = \"Economy\"\n",
        "  elif (flight_distance<2230 and (flight_class == \"First\" or flight_class ==\"Business\")):\n",
        "    class_var = \"Business/First\"\n",
        "  elif (flight_class == \"Premium Economy\"):\n",
        "    class_var = \"Premium economy\"\n",
        "  elif (flight_class == \"First\"):\n",
        "    class_var = \"First\"\n",
        "  elif (flight_class == \"Business\"):\n",
        "    class_var = \"Business\"\n",
        "  else:\n",
        "    class_var = \"Average\"\n",
        "  if (flight_distance < 746):\n",
        "    dist_var = \"Short Haul\"\n",
        "  elif (flight_distance >= 746 and flight_distance <2230):\n",
        "    dist_var = \"Medium Haul\"\n",
        "  else:\n",
        "    dist_var = \"Long Haul\"\n",
        "  flight_name = \"Departure flight \"+ str(loop)\n",
        "  printstring+= \"\\n\"+ flight_name + \" was a \"+ dist_var +\" flight where you flew \"+ str(flight_distance) + \" miles in \" + class_var + \" class seating.\\n\"\n",
        "  flight_emsissions_tons = get_flight_co2_lbs_emissions(dist_var, class_var)*flight_distance/2000\n",
        "  printstring+= \"Your emissions on that flight were \"+ str(round(flight_emsissions_tons,3)) + \" tons of CO2.\\n\"\n",
        "  emissionsdata.append([flight_name,flight_emsissions_tons])\n",
        "  loop+=1\n"
      ],
      "metadata": {
        "id": "B3Wz7YAdlS-N",
        "cellView": "form"
      },
      "execution_count": null,
      "outputs": []
    },
    {
      "cell_type": "code",
      "source": [
        "#@title Drive to hotel inputs\n",
        "#drive to hotel\n",
        "\n",
        "vehicle2_make = input(\"What was the make of the vehicle you took from the airport to your hotel?\").upper()\n",
        "# print(vehicle2_make)\n",
        "\n",
        "vehicle2_model = input(\"What was the model of the vehicle you took from the airport to your hotel?\").upper()\n",
        "# print(vehicle2_model)\n",
        "\n",
        "vehicle2_miles = int(input(\"How far was the drive from the airport to your hotel? (to nearest 1 mile)\"))\n",
        "drive2_emissions = grams_per_km_to_total_tons(get_car_co2(vehicle2_make, vehicle2_model), vehicle2_miles)\n",
        "printstring+= \"\\nOn the drive to your hotel (Drive 2), you drove \"\n",
        "printstring+= str(vehicle2_miles)\n",
        "printstring+= \" miles in a \"\n",
        "printstring+= vehicle2_make +\" \"+vehicle2_model\n",
        "printstring+= \"\\nThat drive polluted \"\n",
        "printstring+= str(round(drive2_emissions,2))\n",
        "printstring+= \" tons of CO2\\n\"\n",
        "emissionsdata.append([\"Drive 2\",drive2_emissions])\n",
        "\n"
      ],
      "metadata": {
        "id": "kqlOq--3ljoH",
        "cellView": "form"
      },
      "execution_count": null,
      "outputs": []
    },
    {
      "cell_type": "code",
      "source": [
        "#@title Additional driving input\n",
        "#driving while at destination\n",
        "\n",
        "other_driving_miles = int(input(\"About how many additional miles did you travel by car on your trip?\"))\n",
        "other_driving_emissions = other_driving_miles * 0.00044533377 #number is number of tons in 404 grams co2 (per mile co2 emissions of average car)\n",
        "\n",
        "printstring+= \"\\nYou drove an additional \"\n",
        "printstring+= str(other_driving_miles)\n",
        "printstring+= \" miles while traveling, which polluted approximately \"\n",
        "printstring+= str(round(other_driving_emissions,3))\n",
        "printstring+= \" tons of CO2\\n\"\n",
        "emissionsdata.append([\"Other Driving\",other_driving_emissions])"
      ],
      "metadata": {
        "colab": {
          "base_uri": "https://localhost:8080/",
          "height": 252
        },
        "id": "V6l38hXzJ8Nb",
        "outputId": "bf343173-01aa-4216-9f24-db3c86220a7f",
        "cellView": "form"
      },
      "execution_count": 173,
      "outputs": [
        {
          "name": "stdout",
          "output_type": "stream",
          "text": [
            "About how many additional miles did you travel by car on your trip?\n"
          ]
        },
        {
          "output_type": "error",
          "ename": "ValueError",
          "evalue": "ignored",
          "traceback": [
            "\u001b[0;31m---------------------------------------------------------------------------\u001b[0m",
            "\u001b[0;31mValueError\u001b[0m                                Traceback (most recent call last)",
            "\u001b[0;32m<ipython-input-173-f25b439c5d27>\u001b[0m in \u001b[0;36m<module>\u001b[0;34m()\u001b[0m\n\u001b[1;32m      2\u001b[0m \u001b[0;31m#driving while at destination\u001b[0m\u001b[0;34m\u001b[0m\u001b[0;34m\u001b[0m\u001b[0;34m\u001b[0m\u001b[0m\n\u001b[1;32m      3\u001b[0m \u001b[0;34m\u001b[0m\u001b[0m\n\u001b[0;32m----> 4\u001b[0;31m \u001b[0mother_driving_miles\u001b[0m \u001b[0;34m=\u001b[0m \u001b[0mint\u001b[0m\u001b[0;34m(\u001b[0m\u001b[0minput\u001b[0m\u001b[0;34m(\u001b[0m\u001b[0;34m\"About how many additional miles did you travel by car on your trip?\"\u001b[0m\u001b[0;34m)\u001b[0m\u001b[0;34m)\u001b[0m\u001b[0;34m\u001b[0m\u001b[0;34m\u001b[0m\u001b[0m\n\u001b[0m\u001b[1;32m      5\u001b[0m \u001b[0mother_driving_emissions\u001b[0m \u001b[0;34m=\u001b[0m \u001b[0mother_driving_miles\u001b[0m \u001b[0;34m*\u001b[0m \u001b[0;36m0.00044533377\u001b[0m \u001b[0;31m#number is number of tons in 404 grams co2 (per mile co2 emissions of average car)\u001b[0m\u001b[0;34m\u001b[0m\u001b[0;34m\u001b[0m\u001b[0m\n\u001b[1;32m      6\u001b[0m \u001b[0;34m\u001b[0m\u001b[0m\n",
            "\u001b[0;31mValueError\u001b[0m: invalid literal for int() with base 10: ''"
          ]
        }
      ]
    },
    {
      "cell_type": "code",
      "source": [
        "#@title Drive back to airport inputs\n",
        "#drive back to airport\n",
        "\n",
        "vehicle3_make = input(\"What was the make of the vehicle you took from your hotel to the airport?\").upper()\n",
        "# print(vehicle3_make)\n",
        "\n",
        "vehicle3_model = input(\"What was the model of the vehicle you took from your hotel to the airport?\").upper()\n",
        "# print(vehicle3_model)\n",
        "\n",
        "vehicle3_miles = int(input(\"How far was the drive from your hotel to the airport? (to nearest 1 mile)\"))\n",
        "drive3_emissions = grams_per_km_to_total_tons(get_car_co2(vehicle3_make, vehicle3_model), vehicle3_miles)\n",
        "printstring+= \"\\nOn the drive to your hotel (Drive 3), you drove \"\n",
        "printstring+= str(vehicle3_miles)\n",
        "printstring+= \" miles in a \"\n",
        "printstring+= vehicle3_make +\" \"+vehicle3_model\n",
        "printstring+= \"\\nThat drive polluted \"\n",
        "printstring+= str(round(drive3_emissions,3))\n",
        "printstring+= \" tons of CO2\\n\"\n",
        "emissionsdata.append([\"Drive 3\",drive3_emissions])"
      ],
      "metadata": {
        "id": "bCydBlE1lwis",
        "cellView": "form"
      },
      "execution_count": null,
      "outputs": []
    },
    {
      "cell_type": "code",
      "source": [
        "#@title Return flight inputs\n",
        "#return flight\n",
        "\n",
        "num_stops_to_return = int(input(\"How many stops did you have on your returning air travel? (0, 1, 2 etc...)\"))\n",
        "legs_of_flight_to_return = num_stops_to_return+1\n",
        "loop = 1\n",
        "for i in range (legs_of_flight_to_return):\n",
        "  if(legs_of_flight_to_return>1):\n",
        "      print(\"How far did you fly on flight\",loop, \"(to the nearest mile)\")\n",
        "      flight_distance = int(input())\n",
        "      flight_class = input(\"What class did you fly on that flight? (Economy, Premium Economy, Business, First, Other)\")\n",
        "  else:\n",
        "    flight_distance = int(input(\"How far was your flight (to the nearest mile)\"))\n",
        "    flight_class = input(\"What class did you fly on that flight? (Economy, Premium Economy, Business, First, Other)\")\n",
        "  #set class_var\n",
        "  if (flight_class == \"Economy\"):\n",
        "    class_var = \"Economy\"\n",
        "  elif (flight_distance<2230 and (flight_class == \"First\" or flight_class ==\"Business\")):\n",
        "    class_var = \"Business/First\"\n",
        "  elif (flight_class == \"Premium Economy\"):\n",
        "    class_var = \"Premium economy\"\n",
        "  elif (flight_class == \"First\"):\n",
        "    class_var = \"First\"\n",
        "  elif (flight_class == \"Business\"):\n",
        "    class_var = \"Business\"\n",
        "  else:\n",
        "    class_var = \"Average\"\n",
        "  if (flight_distance < 746):\n",
        "    dist_var = \"Short Haul\"\n",
        "  elif (flight_distance >= 746 and flight_distance <2230):\n",
        "    dist_var = \"Medium Haul\"\n",
        "  else:\n",
        "    dist_var = \"Long Haul\"\n",
        "  flight_name = \"Return flight \"+ str(loop)\n",
        "  printstring+= \"\\n\"+ flight_name + \" was a \"+ dist_var +\" flight where you flew \"+ str(flight_distance) + \" miles in \" + class_var + \" class seating.\\n\"\n",
        "  flight_emsissions_tons = get_flight_co2_lbs_emissions(dist_var, class_var)*flight_distance/2000\n",
        "  printstring+= \"Your emissions on that flight were \"+ str(round(flight_emsissions_tons,3)) + \" tons of CO2.\\n\"\n",
        "  emissionsdata.append([flight_name,flight_emsissions_tons])\n",
        "  loop+=1"
      ],
      "metadata": {
        "colab": {
          "base_uri": "https://localhost:8080/",
          "height": 252
        },
        "id": "M7R1MARTnG2a",
        "outputId": "13ee0725-2188-4690-a65b-739dd10bf37f",
        "cellView": "form"
      },
      "execution_count": 174,
      "outputs": [
        {
          "name": "stdout",
          "output_type": "stream",
          "text": [
            "How many stops did you have on your returning air travel? (0, 1, 2 etc...)\n"
          ]
        },
        {
          "output_type": "error",
          "ename": "ValueError",
          "evalue": "ignored",
          "traceback": [
            "\u001b[0;31m---------------------------------------------------------------------------\u001b[0m",
            "\u001b[0;31mValueError\u001b[0m                                Traceback (most recent call last)",
            "\u001b[0;32m<ipython-input-174-0cff2c479ffd>\u001b[0m in \u001b[0;36m<module>\u001b[0;34m()\u001b[0m\n\u001b[1;32m      2\u001b[0m \u001b[0;31m#return flight\u001b[0m\u001b[0;34m\u001b[0m\u001b[0;34m\u001b[0m\u001b[0;34m\u001b[0m\u001b[0m\n\u001b[1;32m      3\u001b[0m \u001b[0;34m\u001b[0m\u001b[0m\n\u001b[0;32m----> 4\u001b[0;31m \u001b[0mnum_stops_to_return\u001b[0m \u001b[0;34m=\u001b[0m \u001b[0mint\u001b[0m\u001b[0;34m(\u001b[0m\u001b[0minput\u001b[0m\u001b[0;34m(\u001b[0m\u001b[0;34m\"How many stops did you have on your returning air travel? (0, 1, 2 etc...)\"\u001b[0m\u001b[0;34m)\u001b[0m\u001b[0;34m)\u001b[0m\u001b[0;34m\u001b[0m\u001b[0;34m\u001b[0m\u001b[0m\n\u001b[0m\u001b[1;32m      5\u001b[0m \u001b[0mlegs_of_flight_to_return\u001b[0m \u001b[0;34m=\u001b[0m \u001b[0mnum_stops_to_return\u001b[0m\u001b[0;34m+\u001b[0m\u001b[0;36m1\u001b[0m\u001b[0;34m\u001b[0m\u001b[0;34m\u001b[0m\u001b[0m\n\u001b[1;32m      6\u001b[0m \u001b[0mloop\u001b[0m \u001b[0;34m=\u001b[0m \u001b[0;36m1\u001b[0m\u001b[0;34m\u001b[0m\u001b[0;34m\u001b[0m\u001b[0m\n",
            "\u001b[0;31mValueError\u001b[0m: invalid literal for int() with base 10: ''"
          ]
        }
      ]
    },
    {
      "cell_type": "code",
      "source": [
        "#@title Drive home from airport inputs\n",
        "#drive back home from airport\n",
        "\n",
        "vehicle4_make = input(\"What was the make of the vehicle you took from the airport to your home?\").upper()\n",
        "# print(vehicle4_make)\n",
        "\n",
        "vehicle4_model = input(\"What was the model of the vehicle you took from the airport to your home?\").upper()\n",
        "# print(vehicle4_model)\n",
        "\n",
        "vehicle4_miles = int(input(\"How far was the drive from the airport to your home? (to nearest 1 mile)\"))\n",
        "drive4_emissions = grams_per_km_to_total_tons(get_car_co2(vehicle4_make, vehicle4_model), vehicle4_miles)\n",
        "printstring+= \"\\nOn the drive home (Drive 4), you drove \"\n",
        "printstring+= str(vehicle4_miles)\n",
        "printstring+= \" miles in a \"\n",
        "printstring+= vehicle4_make +\" \"+vehicle4_model\n",
        "printstring+= \"\\nThat drive polluted \"\n",
        "printstring+= str(round(drive4_emissions,3))\n",
        "printstring+= \" tons of CO2\\n\"\n",
        "emissionsdata.append([\"Drive 4\",drive4_emissions])\n"
      ],
      "metadata": {
        "id": "N7_G0gfWmH_i",
        "cellView": "form"
      },
      "execution_count": null,
      "outputs": []
    },
    {
      "cell_type": "code",
      "source": [
        "#@title Summary Output\n",
        "import matplotlib.pyplot as plt\n",
        "emissionsdata_df = pd.DataFrame(emissionsdata, columns = [\"Travel Type\", \"Emissions (Tons CO2)\"])\n",
        "emissionsdata_df[\"Explode\"] = 0\n",
        "\n",
        "def size(x):\n",
        "  if x < .1:\n",
        "    return .7\n",
        "  else:\n",
        "    return .1\n",
        "emissionsdata_df[\"Explode\"] = emissionsdata_df[\"Emissions (Tons CO2)\"].apply(size)\n",
        "\n",
        "trees_to_plant = round((emissionsdata_df['Emissions (Tons CO2)'].sum()*38.5),0)\n",
        "print(printstring)\n",
        "total_emissions = round(emissionsdata_df['Emissions (Tons CO2)'].sum(),3)\n",
        "print(\"\\nYour total emissions for this trip were\", total_emissions, \"Tons of CO2\")\n",
        "\n",
        "#31-46 trees per ton (Avg 38.5)\n",
        "print(\"To offset those emissions, you would need to plant about\", str(trees_to_plant), \"trees.\")\n",
        "for i in range(int(trees_to_plant)):\n",
        "  print(\"🌲\",end = \" \")\n",
        "\n",
        "print(\"\\n\")"
      ],
      "metadata": {
        "id": "z_L1YUQEu70u",
        "cellView": "form"
      },
      "execution_count": null,
      "outputs": []
    },
    {
      "cell_type": "code",
      "source": [
        "#@title Emissions visuals\n",
        "print(\"\\nLet's look at a breakdown of your emissions for this trip.\")\n",
        "\n",
        "piechart = plt.pie(emissionsdata_df[\"Emissions (Tons CO2)\"], labels = emissionsdata_df[\"Travel Type\"], explode = emissionsdata_df[\"Explode\"], autopct = '%2.1f%%')\n",
        "plt.show(piechart)\n",
        "\n",
        "emissionsdata_df.loc[len(emissionsdata_df.index)] = [\"Total Emissions\", emissionsdata_df['Emissions (Tons CO2)'].sum(), 0]\n",
        "print(\"\\n\")\n",
        "printable_df = emissionsdata_df[['Travel Type',\"Emissions (Tons CO2)\"]]\n",
        "print(printable_df.to_string(index=False))\n",
        "\n"
      ],
      "metadata": {
        "cellView": "form",
        "id": "nj-K68lyN4ed"
      },
      "execution_count": null,
      "outputs": []
    },
    {
      "cell_type": "code",
      "source": [
        "#@title Offset Options\n",
        "print(\"\\nThere are several options to purchase carbon offsets to minimize your emissions footprint. Here are a few:\")\n",
        "print(\"\\n\")\n",
        "print('\\033[1m',\"Native Energy\",'\\033[0m')\n",
        "print(\"Native carbon offset purchases support anything from clean water projects to regenerative aggriculture to energy efficient infrastrure.\")\n",
        "print(\"Native estimates that for every $15.50 spent on a carbon-reducing project, they can keep 1 ton of CO2 out of the atmosphere.\")\n",
        "print(\"Using those estimates, it would cost about $\"'\\033[1m',round(total_emissions*15.5,2),'\\033[0m'\"to offset your travel emissions through Native Energy.\")\n",
        "print(\"\\n\")\n",
        "print('\\033[1m',\"myclimate\",'\\033[0m')\n",
        "print(\"myclimate carbon offset purchases fund climate protection projects involving renewables, sustainable international development, and reforestation projects.\")\n",
        "print(\"myclimate estimates that for every $30.00 spent on a carbon-reducing project, they can keep 1 ton of CO2 out of the atmosphere.\")\n",
        "print(\"Using those estimates, it would cost about $\"'\\033[1m',round(total_emissions*30,2),'\\033[0m'\"to offset your travel emissions through myclimate.\")\n",
        "print(\"\\n\")\n",
        "print('\\033[1m',\"Sustainable Travel International\",'\\033[0m')\n",
        "print(\"Sustainable Travel International carbon offset purchases fund clean energy, biodiversity projects, and support local communities.\")\n",
        "print(\"Sustainable Travel International estimates that for every $16.00 spent on a carbon-reducing project, they can keep 1 ton of CO2 out of the atmosphere.\")\n",
        "print(\"Using those estimates, it would cost about $\"'\\033[1m',round(total_emissions*16,2),'\\033[0m'\"to offset your travel emissions with Sustainable Travel International.\")"
      ],
      "metadata": {
        "colab": {
          "base_uri": "https://localhost:8080/"
        },
        "cellView": "form",
        "id": "l7DbAdC3MBCf",
        "outputId": "3d3d8d87-a0fb-4078-dfa3-fd2cd5334a8c"
      },
      "execution_count": 175,
      "outputs": [
        {
          "output_type": "stream",
          "name": "stdout",
          "text": [
            "\n",
            "There are several options to purchase carbon offsets to minimize your emissions footprint. Here are a few:\n",
            "\n",
            "\n",
            "\u001b[1m Native Energy \u001b[0m\n",
            "Native carbon offset purchases support anything from clean water projects to regenerative aggriculture to energy efficient infrastrure.\n",
            "Native estimates that for every $15.50 spent on a carbon-reducing project, they can keep 1 ton of CO2 out of the atmosphere.\n",
            "Using those estimates, it would cost about $\u001b[1m 17.76 \u001b[0mto offset your travel emissions through Native Energy.\n",
            "\n",
            "\n",
            "\u001b[1m myclimate \u001b[0m\n",
            "myclimate carbon offset purchases fund climate protection projects involving renewables, sustainable international development, and reforestation projects.\n",
            "myclimate estimates that for every $30.00 spent on a carbon-reducing project, they can keep 1 ton of CO2 out of the atmosphere.\n",
            "Using those estimates, it would cost about $\u001b[1m 34.38 \u001b[0mto offset your travel emissions through myclimate.\n",
            "\n",
            "\n",
            "\u001b[1m Sustainable Travel International \u001b[0m\n",
            "Sustainable Travel International carbon offset purchases fund clean energy, biodiversity projects, and support local communities.\n",
            "Sustainable Travel International estimates that for every $16.00 spent on a carbon-reducing project, they can keep 1 ton of CO2 out of the atmosphere.\n",
            "Using those estimates, it would cost about $\u001b[1m 18.34 \u001b[0mto offset your travel emissions with Sustainable Travel International.\n"
          ]
        }
      ]
    },
    {
      "cell_type": "code",
      "source": [
        ""
      ],
      "metadata": {
        "id": "v54pTuYdZyEZ"
      },
      "execution_count": 175,
      "outputs": []
    }
  ]
}