{
  "nbformat": 4,
  "nbformat_minor": 0,
  "metadata": {
    "colab": {
      "name": "EmissionsCalculator.ipynb",
      "provenance": [],
      "collapsed_sections": [],
      "toc_visible": true
    },
    "kernelspec": {
      "name": "python3",
      "display_name": "Python 3"
    },
    "language_info": {
      "name": "python"
    }
  },
  "cells": [
    {
      "cell_type": "code",
      "source": [
        "#@title Imports\n",
        "import pandas as pd\n",
        "\n",
        "vehicle_data = pd.read_csv(\"CO2 Emissions_Canada.csv\")\n",
        "flight_data = pd.read_csv(\"AirTravelEmissionsByMile.csv\")\n",
        "flight_data = flight_data.drop(\"lbs CO2e per km\", axis=1)\n",
        "\n",
        "\n",
        "# flight_data\n",
        "# vehicle_data.head()"
      ],
      "metadata": {
        "id": "tYtFh6IzA0o6",
        "cellView": "form"
      },
      "execution_count": 86,
      "outputs": []
    },
    {
      "cell_type": "code",
      "source": [
        "#@title Get Car CO2 Function\n",
        "def get_car_co2(make, model):\n",
        "  try:\n",
        "    for i, row in vehicle_data.iterrows():\n",
        "      if row['Make'] == make and row['Model'] == model:\n",
        "        return row['CO2 Emissions(g/km)']\n",
        "  except:\n",
        "    #average grams per km if car is not found\n",
        "    #https://www.epa.gov/greenvehicles/greenhouse-gas-emissions-typical-passenger-vehicle\n",
        "    return 251\n"
      ],
      "metadata": {
        "id": "MWc9VWAgA2cj",
        "cellView": "form"
      },
      "execution_count": 87,
      "outputs": []
    },
    {
      "cell_type": "code",
      "source": [
        "#@title Get Flight CO2 Function\n",
        "def get_flight_co2_lbs_emissions(distance, seating_type):\n",
        "  if distance == \"Short Haul\":\n",
        "    flight_emissions = flight_data[\"lbs co2e per mile (2022)\"].iloc[0]\n",
        "  elif distance == \"Medium Haul\" and seating_type == \"Average\":\n",
        "    flight_emissions = flight_data[\"lbs co2e per mile (2022)\"].iloc[1]\n",
        "  elif distance == \"Medium Haul\" and seating_type == \"Economy\":\n",
        "    flight_emissions = flight_data[\"lbs co2e per mile (2022)\"].iloc[2]\n",
        "  elif distance == \"Medium Haul\" and seating_type == \"Business/First\":\n",
        "    flight_emissions = flight_data[\"lbs co2e per mile (2022)\"].iloc[3]\n",
        "  elif distance == \"Long Haul\" and seating_type == \"Average\":\n",
        "    flight_emissions = flight_data[\"lbs co2e per mile (2022)\"].iloc[4]\n",
        "  elif distance == \"Long Haul\" and seating_type == \"Economy\":\n",
        "    flight_emissions = flight_data[\"lbs co2e per mile (2022)\"].iloc[5]\n",
        "  elif distance == \"Long Haul\" and seating_type == \"Premium economy\":\n",
        "    flight_emissions = flight_data[\"lbs co2e per mile (2022)\"].iloc[6]\n",
        "  elif distance == \"Long Haul\" and seating_type == \"Business\":\n",
        "    flight_emissions = flight_data[\"lbs co2e per mile (2022)\"].iloc[7]\n",
        "  elif distance == \"Long Haul\" and seating_type == \"First\":\n",
        "    flight_emissions = flight_data[\"lbs co2e per mile (2022)\"].iloc[8]\n",
        "  elif distance == \"Medium Haul\":\n",
        "    flight_emissions = flight_data[\"lbs co2e per mile (2022)\"].iloc[1]\n",
        "  elif distance == \"Long Haul\":\n",
        "    flight_emissions = flight_data[\"lbs co2e per mile (2022)\"].iloc[4]\n",
        "  return(flight_emissions)\n",
        "\n",
        "  \n"
      ],
      "metadata": {
        "id": "ZByuYkS_A5qq",
        "cellView": "form"
      },
      "execution_count": 88,
      "outputs": []
    },
    {
      "cell_type": "code",
      "source": [
        "#@title Grams per km to total tons function\n",
        "def grams_per_km_to_total_tons(grams_per_km, drive_distance):\n",
        "  return (grams_per_km*0.00220462*1.609344*0.0005*drive_distance)"
      ],
      "metadata": {
        "id": "T5cU3lUgBiqv",
        "cellView": "form"
      },
      "execution_count": 89,
      "outputs": []
    },
    {
      "cell_type": "code",
      "source": [
        "#@title Reset string and emissions data table\n",
        "printstring = \"Let's look at a summary of your travel emissions.\\n\"\n",
        "emissionsdata = []\n",
        "#RUN BEFORE DOING CODE BELOW\n"
      ],
      "metadata": {
        "id": "36Za-h8QDnD2",
        "cellView": "form"
      },
      "execution_count": 90,
      "outputs": []
    },
    {
      "cell_type": "code",
      "source": [
        "#@title Drive to airport inputs\n",
        "#drive to airport\n",
        "\n",
        "vehicle1_make = input(\"What was the make of the vehicle you took to the airport?\").upper()\n",
        "# print(vehicle1_make)\n",
        "\n",
        "vehicle1_model = input(\"What was the model of the vehicle you took to the airport?\").upper()\n",
        "# print(vehicle1_model)\n",
        "\n",
        "vehicle1_miles = int(input(\"How far was the drive from your home to the airport? (to nearest 1 mile)\"))\n",
        "drive1_emissions = grams_per_km_to_total_tons(get_car_co2(vehicle1_make, vehicle1_model), vehicle1_miles)\n",
        "printstring+= \"\\nOn the drive to the airport (Drive 1), you drove \"\n",
        "printstring+= str(vehicle1_miles)\n",
        "printstring+= \" miles in a \"\n",
        "printstring+= vehicle1_make +\" \"+vehicle1_model\n",
        "printstring+= \"\\nThat drive polluted \"\n",
        "printstring+= str(round(drive1_emissions,3))\n",
        "printstring+= \" tons of CO2\\n\"\n",
        "emissionsdata.append([\"Drive 1\",drive1_emissions])\n"
      ],
      "metadata": {
        "colab": {
          "base_uri": "https://localhost:8080/",
          "height": 536
        },
        "id": "HJTbdzCMlcFf",
        "outputId": "260d0f4e-11ef-4ef4-f20b-d2ff986f7f44",
        "cellView": "form"
      },
      "execution_count": 85,
      "outputs": [
        {
          "output_type": "error",
          "ename": "KeyboardInterrupt",
          "evalue": "ignored",
          "traceback": [
            "\u001b[0;31m---------------------------------------------------------------------------\u001b[0m",
            "\u001b[0;31mKeyboardInterrupt\u001b[0m                         Traceback (most recent call last)",
            "\u001b[0;32m/usr/local/lib/python3.7/dist-packages/ipykernel/kernelbase.py\u001b[0m in \u001b[0;36m_input_request\u001b[0;34m(self, prompt, ident, parent, password)\u001b[0m\n\u001b[1;32m    728\u001b[0m             \u001b[0;32mtry\u001b[0m\u001b[0;34m:\u001b[0m\u001b[0;34m\u001b[0m\u001b[0;34m\u001b[0m\u001b[0m\n\u001b[0;32m--> 729\u001b[0;31m                 \u001b[0mident\u001b[0m\u001b[0;34m,\u001b[0m \u001b[0mreply\u001b[0m \u001b[0;34m=\u001b[0m \u001b[0mself\u001b[0m\u001b[0;34m.\u001b[0m\u001b[0msession\u001b[0m\u001b[0;34m.\u001b[0m\u001b[0mrecv\u001b[0m\u001b[0;34m(\u001b[0m\u001b[0mself\u001b[0m\u001b[0;34m.\u001b[0m\u001b[0mstdin_socket\u001b[0m\u001b[0;34m,\u001b[0m \u001b[0;36m0\u001b[0m\u001b[0;34m)\u001b[0m\u001b[0;34m\u001b[0m\u001b[0;34m\u001b[0m\u001b[0m\n\u001b[0m\u001b[1;32m    730\u001b[0m             \u001b[0;32mexcept\u001b[0m \u001b[0mException\u001b[0m\u001b[0;34m:\u001b[0m\u001b[0;34m\u001b[0m\u001b[0;34m\u001b[0m\u001b[0m\n",
            "\u001b[0;32m/usr/local/lib/python3.7/dist-packages/jupyter_client/session.py\u001b[0m in \u001b[0;36mrecv\u001b[0;34m(self, socket, mode, content, copy)\u001b[0m\n\u001b[1;32m    802\u001b[0m         \u001b[0;32mtry\u001b[0m\u001b[0;34m:\u001b[0m\u001b[0;34m\u001b[0m\u001b[0;34m\u001b[0m\u001b[0m\n\u001b[0;32m--> 803\u001b[0;31m             \u001b[0mmsg_list\u001b[0m \u001b[0;34m=\u001b[0m \u001b[0msocket\u001b[0m\u001b[0;34m.\u001b[0m\u001b[0mrecv_multipart\u001b[0m\u001b[0;34m(\u001b[0m\u001b[0mmode\u001b[0m\u001b[0;34m,\u001b[0m \u001b[0mcopy\u001b[0m\u001b[0;34m=\u001b[0m\u001b[0mcopy\u001b[0m\u001b[0;34m)\u001b[0m\u001b[0;34m\u001b[0m\u001b[0;34m\u001b[0m\u001b[0m\n\u001b[0m\u001b[1;32m    804\u001b[0m         \u001b[0;32mexcept\u001b[0m \u001b[0mzmq\u001b[0m\u001b[0;34m.\u001b[0m\u001b[0mZMQError\u001b[0m \u001b[0;32mas\u001b[0m \u001b[0me\u001b[0m\u001b[0;34m:\u001b[0m\u001b[0;34m\u001b[0m\u001b[0;34m\u001b[0m\u001b[0m\n",
            "\u001b[0;32m/usr/local/lib/python3.7/dist-packages/zmq/sugar/socket.py\u001b[0m in \u001b[0;36mrecv_multipart\u001b[0;34m(self, flags, copy, track)\u001b[0m\n\u001b[1;32m    726\u001b[0m         \"\"\"\n\u001b[0;32m--> 727\u001b[0;31m         \u001b[0mparts\u001b[0m \u001b[0;34m=\u001b[0m \u001b[0;34m[\u001b[0m\u001b[0mself\u001b[0m\u001b[0;34m.\u001b[0m\u001b[0mrecv\u001b[0m\u001b[0;34m(\u001b[0m\u001b[0mflags\u001b[0m\u001b[0;34m,\u001b[0m \u001b[0mcopy\u001b[0m\u001b[0;34m=\u001b[0m\u001b[0mcopy\u001b[0m\u001b[0;34m,\u001b[0m \u001b[0mtrack\u001b[0m\u001b[0;34m=\u001b[0m\u001b[0mtrack\u001b[0m\u001b[0;34m)\u001b[0m\u001b[0;34m]\u001b[0m\u001b[0;34m\u001b[0m\u001b[0;34m\u001b[0m\u001b[0m\n\u001b[0m\u001b[1;32m    728\u001b[0m         \u001b[0;31m# have first part already, only loop while more to receive\u001b[0m\u001b[0;34m\u001b[0m\u001b[0;34m\u001b[0m\u001b[0;34m\u001b[0m\u001b[0m\n",
            "\u001b[0;32mzmq/backend/cython/socket.pyx\u001b[0m in \u001b[0;36mzmq.backend.cython.socket.Socket.recv\u001b[0;34m()\u001b[0m\n",
            "\u001b[0;32mzmq/backend/cython/socket.pyx\u001b[0m in \u001b[0;36mzmq.backend.cython.socket.Socket.recv\u001b[0;34m()\u001b[0m\n",
            "\u001b[0;32mzmq/backend/cython/socket.pyx\u001b[0m in \u001b[0;36mzmq.backend.cython.socket._recv_copy\u001b[0;34m()\u001b[0m\n",
            "\u001b[0;32m/usr/local/lib/python3.7/dist-packages/zmq/backend/cython/checkrc.pxd\u001b[0m in \u001b[0;36mzmq.backend.cython.checkrc._check_rc\u001b[0;34m()\u001b[0m\n",
            "\u001b[0;31mKeyboardInterrupt\u001b[0m: ",
            "\nDuring handling of the above exception, another exception occurred:\n",
            "\u001b[0;31mKeyboardInterrupt\u001b[0m                         Traceback (most recent call last)",
            "\u001b[0;32m<ipython-input-85-7ace0e2237c0>\u001b[0m in \u001b[0;36m<module>\u001b[0;34m()\u001b[0m\n\u001b[1;32m      2\u001b[0m \u001b[0;31m#drive to airport\u001b[0m\u001b[0;34m\u001b[0m\u001b[0;34m\u001b[0m\u001b[0;34m\u001b[0m\u001b[0m\n\u001b[1;32m      3\u001b[0m \u001b[0;34m\u001b[0m\u001b[0m\n\u001b[0;32m----> 4\u001b[0;31m \u001b[0mvehicle1_make\u001b[0m \u001b[0;34m=\u001b[0m \u001b[0minput\u001b[0m\u001b[0;34m(\u001b[0m\u001b[0;34m\"What was the make of the vehicle you took to the airport?\"\u001b[0m\u001b[0;34m)\u001b[0m\u001b[0;34m.\u001b[0m\u001b[0mupper\u001b[0m\u001b[0;34m(\u001b[0m\u001b[0;34m)\u001b[0m\u001b[0;34m\u001b[0m\u001b[0;34m\u001b[0m\u001b[0m\n\u001b[0m\u001b[1;32m      5\u001b[0m \u001b[0;31m# print(vehicle1_make)\u001b[0m\u001b[0;34m\u001b[0m\u001b[0;34m\u001b[0m\u001b[0;34m\u001b[0m\u001b[0m\n\u001b[1;32m      6\u001b[0m \u001b[0;34m\u001b[0m\u001b[0m\n",
            "\u001b[0;32m/usr/local/lib/python3.7/dist-packages/ipykernel/kernelbase.py\u001b[0m in \u001b[0;36mraw_input\u001b[0;34m(self, prompt)\u001b[0m\n\u001b[1;32m    702\u001b[0m             \u001b[0mself\u001b[0m\u001b[0;34m.\u001b[0m\u001b[0m_parent_ident\u001b[0m\u001b[0;34m,\u001b[0m\u001b[0;34m\u001b[0m\u001b[0;34m\u001b[0m\u001b[0m\n\u001b[1;32m    703\u001b[0m             \u001b[0mself\u001b[0m\u001b[0;34m.\u001b[0m\u001b[0m_parent_header\u001b[0m\u001b[0;34m,\u001b[0m\u001b[0;34m\u001b[0m\u001b[0;34m\u001b[0m\u001b[0m\n\u001b[0;32m--> 704\u001b[0;31m             \u001b[0mpassword\u001b[0m\u001b[0;34m=\u001b[0m\u001b[0;32mFalse\u001b[0m\u001b[0;34m,\u001b[0m\u001b[0;34m\u001b[0m\u001b[0;34m\u001b[0m\u001b[0m\n\u001b[0m\u001b[1;32m    705\u001b[0m         )\n\u001b[1;32m    706\u001b[0m \u001b[0;34m\u001b[0m\u001b[0m\n",
            "\u001b[0;32m/usr/local/lib/python3.7/dist-packages/ipykernel/kernelbase.py\u001b[0m in \u001b[0;36m_input_request\u001b[0;34m(self, prompt, ident, parent, password)\u001b[0m\n\u001b[1;32m    732\u001b[0m             \u001b[0;32mexcept\u001b[0m \u001b[0mKeyboardInterrupt\u001b[0m\u001b[0;34m:\u001b[0m\u001b[0;34m\u001b[0m\u001b[0;34m\u001b[0m\u001b[0m\n\u001b[1;32m    733\u001b[0m                 \u001b[0;31m# re-raise KeyboardInterrupt, to truncate traceback\u001b[0m\u001b[0;34m\u001b[0m\u001b[0;34m\u001b[0m\u001b[0;34m\u001b[0m\u001b[0m\n\u001b[0;32m--> 734\u001b[0;31m                 \u001b[0;32mraise\u001b[0m \u001b[0mKeyboardInterrupt\u001b[0m\u001b[0;34m\u001b[0m\u001b[0;34m\u001b[0m\u001b[0m\n\u001b[0m\u001b[1;32m    735\u001b[0m             \u001b[0;32melse\u001b[0m\u001b[0;34m:\u001b[0m\u001b[0;34m\u001b[0m\u001b[0;34m\u001b[0m\u001b[0m\n\u001b[1;32m    736\u001b[0m                 \u001b[0;32mbreak\u001b[0m\u001b[0;34m\u001b[0m\u001b[0;34m\u001b[0m\u001b[0m\n",
            "\u001b[0;31mKeyboardInterrupt\u001b[0m: "
          ]
        }
      ]
    },
    {
      "cell_type": "code",
      "source": [
        "#@title Flight to destination inputs\n",
        "#flight to destination\n",
        "\n",
        "num_stops_to_destination = int(input(\"How many stops did you have on your departing air travel? (0, 1, 2 etc...\"))\n",
        "legs_of_flight_to_destination = num_stops_to_destination+1\n",
        "loop = 1\n",
        "for i in range (legs_of_flight_to_destination):\n",
        "  if(legs_of_flight_to_destination>1):\n",
        "      print(\"How far did you fly on flight\",loop, \"(to the nearest mile)\")\n",
        "      flight_distance = int(input())\n",
        "      flight_class = input(\"What class did you fly on that flight? (Economy, Premium Economy, Business, First, Other\")\n",
        "  else:\n",
        "    flight_distance = int(input(\"How far was your flight (to the nearest mile)\"))\n",
        "    flight_class = input(\"What class did you fly on that flight? (Economy, Premium Economy, Business, First, Other\")\n",
        "  #set class_var\n",
        "  if (flight_class == \"Economy\"):\n",
        "    class_var = \"Economy\"\n",
        "  elif (flight_distance<2230 and (flight_class == \"First\" or flight_class ==\"Business\")):\n",
        "    class_var = \"Business/First\"\n",
        "  elif (flight_class == \"Premium Economy\"):\n",
        "    class_var = \"Premium economy\"\n",
        "  elif (flight_class == \"First\"):\n",
        "    class_var = \"First\"\n",
        "  elif (flight_class == \"Business\"):\n",
        "    class_var = \"Business\"\n",
        "  else:\n",
        "    class_var = \"Average\"\n",
        "  if (flight_distance < 746):\n",
        "    dist_var = \"Short Haul\"\n",
        "  elif (flight_distance >= 746 and flight_distance <2230):\n",
        "    dist_var = \"Medium Haul\"\n",
        "  else:\n",
        "    dist_var = \"Long Haul\"\n",
        "  flight_name = \"Departure flight \"+ str(loop)\n",
        "  printstring+= \"\\n\"+ flight_name + \" was a \"+ dist_var +\" flight where you flew \"+ str(flight_distance) + \" miles in \" + class_var + \" class seating.\\n\"\n",
        "  flight_emsissions_tons = get_flight_co2_lbs_emissions(dist_var, class_var)*flight_distance/2000\n",
        "  printstring+= \"Your emissions on that flight were \"+ str(round(flight_emsissions_tons,3)) + \" tons of CO2.\\n\"\n",
        "  emissionsdata.append([flight_name,flight_emsissions_tons])\n",
        "  loop+=1\n"
      ],
      "metadata": {
        "colab": {
          "base_uri": "https://localhost:8080/"
        },
        "id": "B3Wz7YAdlS-N",
        "outputId": "73645f08-2756-465b-d3bd-c9e183bd7ee9",
        "cellView": "form"
      },
      "execution_count": 11,
      "outputs": [
        {
          "name": "stdout",
          "output_type": "stream",
          "text": [
            "How many stops did you have on your departing air travel? (0, 1, 2 etc...1\n",
            "How far did you fly on flight 1 (to the nearest mile)\n",
            "600\n",
            "What class did you fly on that flight? (Economy, Premium Economy, Business, First, OtherEconomy\n",
            "How far did you fly on flight 2 (to the nearest mile)\n",
            "1000\n",
            "What class did you fly on that flight? (Economy, Premium Economy, Business, First, OtherFirst\n"
          ]
        }
      ]
    },
    {
      "cell_type": "code",
      "source": [
        "#@title Drive to hotel inputs\n",
        "#drive to hotel\n",
        "\n",
        "vehicle2_make = input(\"What was the make of the vehicle you took from the airport to your hotel?\").upper()\n",
        "# print(vehicle2_make)\n",
        "\n",
        "vehicle2_model = input(\"What was the model of the vehicle you took from the airport to your hotel?\").upper()\n",
        "# print(vehicle2_model)\n",
        "\n",
        "vehicle2_miles = int(input(\"How far was the drive from the airport to your hotel? (to nearest 1 mile)\"))\n",
        "drive2_emissions = grams_per_km_to_total_tons(get_car_co2(vehicle2_make, vehicle2_model), vehicle2_miles)\n",
        "printstring+= \"\\nOn the drive to your hotel (Drive 2), you drove \"\n",
        "printstring+= str(vehicle2_miles)\n",
        "printstring+= \" miles in a \"\n",
        "printstring+= vehicle2_make +\" \"+vehicle2_model\n",
        "printstring+= \"\\nThat drive polluted \"\n",
        "printstring+= str(round(drive2_emissions,2))\n",
        "printstring+= \" tons of CO2\\n\"\n",
        "emissionsdata.append([\"Drive 2\",drive2_emissions])\n",
        "\n"
      ],
      "metadata": {
        "colab": {
          "base_uri": "https://localhost:8080/"
        },
        "id": "kqlOq--3ljoH",
        "outputId": "68a73199-5de8-477c-cd7e-fb0ff6f679ef",
        "cellView": "form"
      },
      "execution_count": 12,
      "outputs": [
        {
          "name": "stdout",
          "output_type": "stream",
          "text": [
            "What was the make of the vehicle you took from the airport to your hotel?Ford\n",
            "What was the model of the vehicle you took from the airport to your hotel?Fusion\n",
            "How far was the drive from the airport to your hotel? (to nearest 1 mile)15\n"
          ]
        }
      ]
    },
    {
      "cell_type": "code",
      "source": [
        "#@title Additional driving input\n",
        "#driving while at destination\n",
        "\n",
        "other_driving_miles = int(input(\"About how many additional miles did you travel by car on your trip?\"))\n",
        "other_driving_emissions = other_driving_miles * 0.00044533377 #number is number of tons in 404 grams co2 (per mile co2 emissions of average car)\n",
        "\n",
        "printstring+= \"\\nYou drove an additional \"\n",
        "printstring+= str(other_driving_miles)\n",
        "printstring+= \" miles while traveling, which polluted approximately \"\n",
        "printstring+= str(round(other_driving_emissions,3))\n",
        "printstring+= \" tons of CO2\\n\"\n",
        "emissionsdata.append([\"Other Driving\",other_driving_emissions])"
      ],
      "metadata": {
        "colab": {
          "base_uri": "https://localhost:8080/"
        },
        "id": "V6l38hXzJ8Nb",
        "outputId": "dacf09c8-192b-44bf-cf28-0415311cf6ce",
        "cellView": "form"
      },
      "execution_count": 14,
      "outputs": [
        {
          "name": "stdout",
          "output_type": "stream",
          "text": [
            "About how many additional miles did you travel by car on your trip?70\n"
          ]
        }
      ]
    },
    {
      "cell_type": "code",
      "source": [
        "#@title Drive back to airport inputs\n",
        "#drive back to airport\n",
        "\n",
        "vehicle3_make = input(\"What was the make of the vehicle you took from your hotel to the airport?\").upper()\n",
        "# print(vehicle3_make)\n",
        "\n",
        "vehicle3_model = input(\"What was the model of the vehicle you took from your hotel to the airport?\").upper()\n",
        "# print(vehicle3_model)\n",
        "\n",
        "vehicle3_miles = int(input(\"How far was the drive from your hotel to the airport? (to nearest 1 mile)\"))\n",
        "drive3_emissions = grams_per_km_to_total_tons(get_car_co2(vehicle3_make, vehicle3_model), vehicle3_miles)\n",
        "printstring+= \"\\nOn the drive to your hotel (Drive 3), you drove \"\n",
        "printstring+= str(vehicle3_miles)\n",
        "printstring+= \" miles in a \"\n",
        "printstring+= vehicle3_make +\" \"+vehicle3_model\n",
        "printstring+= \"\\nThat drive polluted \"\n",
        "printstring+= str(round(drive3_emissions,3))\n",
        "printstring+= \" tons of CO2\\n\"\n",
        "emissionsdata.append([\"Drive 3\",drive3_emissions])"
      ],
      "metadata": {
        "colab": {
          "base_uri": "https://localhost:8080/"
        },
        "id": "bCydBlE1lwis",
        "outputId": "fb66f50f-63d2-4852-a2e7-5734609be151",
        "cellView": "form"
      },
      "execution_count": 15,
      "outputs": [
        {
          "name": "stdout",
          "output_type": "stream",
          "text": [
            "What was the make of the vehicle you took from your hotel to the airport?Toyota\n",
            "What was the model of the vehicle you took from your hotel to the airport?Prius\n",
            "How far was the drive from your hotel to the airport? (to nearest 1 mile)15\n"
          ]
        }
      ]
    },
    {
      "cell_type": "code",
      "source": [
        "#@title Return flight inputs\n",
        "#return flight\n",
        "\n",
        "num_stops_to_return = int(input(\"How many stops did you have on your returning air travel? (0, 1, 2 etc...\"))\n",
        "legs_of_flight_to_return = num_stops_to_return+1\n",
        "loop = 1\n",
        "for i in range (legs_of_flight_to_return):\n",
        "  if(legs_of_flight_to_return>1):\n",
        "      print(\"How far did you fly on flight\",loop, \"(to the nearest mile)\")\n",
        "      flight_distance = int(input())\n",
        "      flight_class = input(\"What class did you fly on that flight? (Economy, Premium Economy, Business, First, Other\")\n",
        "  else:\n",
        "    flight_distance = int(input(\"How far was your flight (to the nearest mile)\"))\n",
        "    flight_class = input(\"What class did you fly on that flight? (Economy, Premium Economy, Business, First, Other\")\n",
        "  #set class_var\n",
        "  if (flight_class == \"Economy\"):\n",
        "    class_var = \"Economy\"\n",
        "  elif (flight_distance<2230 and (flight_class == \"First\" or flight_class ==\"Business\")):\n",
        "    class_var = \"Business/First\"\n",
        "  elif (flight_class == \"Premium Economy\"):\n",
        "    class_var = \"Premium economy\"\n",
        "  elif (flight_class == \"First\"):\n",
        "    class_var = \"First\"\n",
        "  elif (flight_class == \"Business\"):\n",
        "    class_var = \"Business\"\n",
        "  else:\n",
        "    class_var = \"Average\"\n",
        "  if (flight_distance < 746):\n",
        "    dist_var = \"Short Haul\"\n",
        "  elif (flight_distance >= 746 and flight_distance <2230):\n",
        "    dist_var = \"Medium Haul\"\n",
        "  else:\n",
        "    dist_var = \"Long Haul\"\n",
        "  flight_name = \"Return flight \"+ str(loop)\n",
        "  printstring+= \"\\n\"+ flight_name + \" was a \"+ dist_var +\" flight where you flew \"+ str(flight_distance) + \" miles in \" + class_var + \" class seating.\\n\"\n",
        "  flight_emsissions_tons = get_flight_co2_lbs_emissions(dist_var, class_var)*flight_distance/2000\n",
        "  printstring+= \"Your emissions on that flight were \"+ str(round(flight_emsissions_tons,3)) + \" tons of CO2.\\n\"\n",
        "  emissionsdata.append([flight_name,flight_emsissions_tons])\n",
        "  loop+=1"
      ],
      "metadata": {
        "colab": {
          "base_uri": "https://localhost:8080/"
        },
        "id": "M7R1MARTnG2a",
        "outputId": "d33b2a7e-abc7-45ae-ddce-99803bec10cd",
        "cellView": "form"
      },
      "execution_count": 16,
      "outputs": [
        {
          "name": "stdout",
          "output_type": "stream",
          "text": [
            "How many stops did you have on your returning air travel? (0, 1, 2 etc...0\n",
            "How far was your flight (to the nearest mile)1600\n",
            "What class did you fly on that flight? (Economy, Premium Economy, Business, First, OtherEconomy\n"
          ]
        }
      ]
    },
    {
      "cell_type": "code",
      "source": [
        "#@title Drive home from airport inputs\n",
        "#drive back home from airport\n",
        "\n",
        "vehicle4_make = input(\"What was the make of the vehicle you took from the airport to your home?\").upper()\n",
        "# print(vehicle4_make)\n",
        "\n",
        "vehicle4_model = input(\"What was the model of the vehicle you took from the airport to your home?\").upper()\n",
        "# print(vehicle4_model)\n",
        "\n",
        "vehicle4_miles = int(input(\"How far was the drive from the airport to your home? (to nearest 1 mile)\"))\n",
        "drive4_emissions = grams_per_km_to_total_tons(get_car_co2(vehicle4_make, vehicle4_model), vehicle4_miles)\n",
        "printstring+= \"\\nOn the drive home (Drive 4), you drove \"\n",
        "printstring+= str(vehicle4_miles)\n",
        "printstring+= \" miles in a \"\n",
        "printstring+= vehicle4_make +\" \"+vehicle4_model\n",
        "printstring+= \"\\nThat drive polluted \"\n",
        "printstring+= str(round(drive4_emissions,3))\n",
        "printstring+= \" tons of CO2\\n\"\n",
        "emissionsdata.append([\"Drive 4\",drive4_emissions])\n"
      ],
      "metadata": {
        "colab": {
          "base_uri": "https://localhost:8080/"
        },
        "id": "N7_G0gfWmH_i",
        "outputId": "27302b7c-1999-4d6f-86fd-b17036614d27",
        "cellView": "form"
      },
      "execution_count": 17,
      "outputs": [
        {
          "name": "stdout",
          "output_type": "stream",
          "text": [
            "What was the make of the vehicle you took from the airport to your home?Nissan\n",
            "What was the model of the vehicle you took from the airport to your home?Sentra\n",
            "How far was the drive from the airport to your home? (to nearest 1 mile)30\n"
          ]
        }
      ]
    },
    {
      "cell_type": "code",
      "source": [
        "#@title Summary Output\n",
        "import matplotlib.pyplot as plt\n",
        "emissionsdata_df = pd.DataFrame(emissionsdata, columns = [\"Travel Type\", \"Emissions (Tons CO2)\"])\n",
        "emissionsdata_df[\"Explode\"] = 0\n",
        "\n",
        "def size(x):\n",
        "  if x < .1:\n",
        "    return .7\n",
        "  else:\n",
        "    return .1\n",
        "emissionsdata_df[\"Explode\"] = emissionsdata_df[\"Emissions (Tons CO2)\"].apply(size)\n",
        "\n",
        "trees_to_plant = round((emissionsdata_df['Emissions (Tons CO2)'].sum()*38.5),0)\n",
        "print(printstring)\n",
        "total_emissions = round(emissionsdata_df['Emissions (Tons CO2)'].sum(),3)\n",
        "print(\"\\nYour total emissions for this trip were\", total_emissions, \"Tons of CO2\")\n",
        "\n",
        "#31-46 trees per ton (Avg 38.5)\n",
        "print(\"To offset those emissions, you would need to plant about\", str(trees_to_plant), \"trees.\")\n",
        "for i in range(int(trees_to_plant)):\n",
        "  print(\"🌲\",end = \" \")\n",
        "\n",
        "print(\"\\n\")"
      ],
      "metadata": {
        "id": "z_L1YUQEu70u",
        "colab": {
          "base_uri": "https://localhost:8080/"
        },
        "cellView": "form",
        "outputId": "03fd92a9-4737-450e-9291-94073962327d"
      },
      "execution_count": 64,
      "outputs": [
        {
          "output_type": "stream",
          "name": "stdout",
          "text": [
            "Let's look at a summary of your travel emissions.\n",
            "\n",
            "On the drive to the airport (Drive 1), you drove 20 miles in a HONDA CIVIC\n",
            "That drive polluted 0.006 tons of CO2\n",
            "\n",
            "Departure flight 1 was a Short Haul flight where you flew 600 miles in Economy class seating.\n",
            "Your emissions on that flight were 0.2617035555 tons of CO2.\n",
            "\n",
            "Departure flight 2 was a Medium Haul flight where you flew 1000 miles in Business/First class seating.\n",
            "Your emissions on that flight were 0.4018452745 tons of CO2.\n",
            "\n",
            "On the drive to your hotel (Drive 2), you drove 15 miles in a FORD FUSION\n",
            "That drive polluted 0.01 tons of CO2\n",
            "\n",
            "You drove an additional 70 miles while traveling, which polluted approximately 0.031 tons of CO2\n",
            "\n",
            "On the drive to your hotel (Drive 3), you drove 15 miles in a TOYOTA PRIUS\n",
            "That drive polluted 0.003 tons of CO2\n",
            "\n",
            "Return flight 1 was a Medium Haul flight where you flew 1600 miles in Economy class seating.\n",
            "Your emissions on that flight were 0.42865212560000004 tons of CO2.\n",
            "\n",
            "On the drive home (Drive 4), you drove 30 miles in a NISSAN SENTRA\n",
            "That drive polluted 0.009 tons of CO2\n",
            "\n",
            "\n",
            "Your total emissions for this trip were 1.146 Tons of CO2\n",
            "To offset those emissions, you would need to plant about 44.0 trees.\n",
            "🌲 🌲 🌲 🌲 🌲 🌲 🌲 🌲 🌲 🌲 🌲 🌲 🌲 🌲 🌲 🌲 🌲 🌲 🌲 🌲 🌲 🌲 🌲 🌲 🌲 🌲 🌲 🌲 🌲 🌲 🌲 🌲 🌲 🌲 🌲 🌲 🌲 🌲 🌲 🌲 🌲 🌲 🌲 🌲 \n",
            "\n"
          ]
        }
      ]
    },
    {
      "cell_type": "code",
      "source": [
        "#@title Emissions visuals\n",
        "print(\"\\nLet's look at a breakdown of your emissions for this trip.\")\n",
        "\n",
        "piechart = plt.pie(emissionsdata_df[\"Emissions (Tons CO2)\"], labels = emissionsdata_df[\"Travel Type\"], explode = emissionsdata_df[\"Explode\"], autopct = '%2.1f%%')\n",
        "plt.show(piechart)\n",
        "\n",
        "emissionsdata_df.loc[len(emissionsdata_df.index)] = [\"Total Emissions\", emissionsdata_df['Emissions (Tons CO2)'].sum(), 0]\n",
        "print(\"\\n\")\n",
        "printable_df = emissionsdata_df[['Travel Type',\"Emissions (Tons CO2)\"]]\n",
        "print(printable_df.to_string(index=False))\n",
        "\n"
      ],
      "metadata": {
        "colab": {
          "base_uri": "https://localhost:8080/",
          "height": 493
        },
        "cellView": "form",
        "id": "nj-K68lyN4ed",
        "outputId": "a3972286-9372-410e-c0c4-ba0403b7a61e"
      },
      "execution_count": 65,
      "outputs": [
        {
          "output_type": "stream",
          "name": "stdout",
          "text": [
            "\n",
            "Let's look at a breakdown of your emissions for this trip.\n"
          ]
        },
        {
          "output_type": "display_data",
          "data": {
            "text/plain": [
              "<Figure size 432x288 with 1 Axes>"
            ],
            "image/png": "[encoded data removed]"
          },
          "metadata": {}
        },
        {
          "output_type": "stream",
          "name": "stdout",
          "text": [
            "\n",
            "\n",
            "       Travel Type  Emissions (Tons CO2)\n",
            "           Drive 1              0.005712\n",
            "Departure flight 1              0.261704\n",
            "Departure flight 2              0.401845\n",
            "           Drive 2              0.005216\n",
            "     Other Driving              0.031173\n",
            "           Drive 3              0.002927\n",
            "   Return flight 1              0.428652\n",
            "           Drive 4              0.008568\n",
            "   Total Emissions              1.145798\n"
          ]
        }
      ]
    },
    {
      "cell_type": "code",
      "source": [
        "#@title Offset Options\n",
        "print(\"\\nThere are several options to purchase carbon offsets to minimize your emissions footprint. Here are a few:\")\n",
        "print(\"\\n\")\n",
        "print('\\033[1m',\"Native Energy\",'\\033[0m')\n",
        "print(\"Native carbon offset purchases support anything from clean water projects to regenerative aggriculture to energy efficient infrastrure.\")\n",
        "print(\"Native estimates that for every $15.50 spent on a carbon-reducing project, they can keep 1 ton of CO2 out of the atmosphere.\")\n",
        "print(\"Using those estimates, it would cost about $\"'\\033[1m',round(total_emissions*15.5,2),'\\033[0m'\"to offset your travel emissions through Native Energy.\")\n",
        "print(\"\\n\")\n",
        "print('\\033[1m',\"myclimate\",'\\033[0m')\n",
        "print(\"myclimate carbon offset purchases fund climate protection projects involving renewables, sustainable international development, and reforestation projects.\")\n",
        "print(\"myclimate estimates that for every $30.00 spent on a carbon-reducing project, they can keep 1 ton of CO2 out of the atmosphere.\")\n",
        "print(\"Using those estimates, it would cost about $\"'\\033[1m',round(total_emissions*30,2),'\\033[0m'\"to offset your travel emissions through myclimate.\")\n",
        "print(\"\\n\")\n",
        "print('\\033[1m',\"Sustainable Travel International\",'\\033[0m')\n",
        "print(\"Sustainable Travel International carbon offset purchases fund clean energy, biodiversity projects, and support local communities.\")\n",
        "print(\"Sustainable Travel International estimates that for every $16.00 spent on a carbon-reducing project, they can keep 1 ton of CO2 out of the atmosphere.\")\n",
        "print(\"Using those estimates, it would cost about $\"'\\033[1m',round(total_emissions*16,2),'\\033[0m'\"to offset your travel emissions with Sustainable Travel International.\")"
      ],
      "metadata": {
        "colab": {
          "base_uri": "https://localhost:8080/"
        },
        "cellView": "form",
        "id": "l7DbAdC3MBCf",
        "outputId": "48cf5f51-e8bd-44e4-af4e-9e9dbfe005fa"
      },
      "execution_count": 77,
      "outputs": [
        {
          "output_type": "stream",
          "name": "stdout",
          "text": [
            "\n",
            "There are several options to purchase carbon offsets to minimize your emissions footprint. Here are a few:\n",
            "\n",
            "\n",
            "\u001b[1m Native Energy \u001b[0m\n",
            "Native carbon offset purchases support anything from clean water projects to regenerative aggriculture to energy efficient infrastrure.\n",
            "Native estimates that for every $15.50 spent on a carbon-reducing project, they can keep 1 ton of CO2 out of the atmosphere.\n",
            "Using those estimates, it would cost about $\u001b[1m 17.76 \u001b[0mto offset your travel emissions through Native Energy.\n",
            "\n",
            "\n",
            "\u001b[1m myclimate \u001b[0m\n",
            "myclimate carbon offset purchases fund climate protection projects involving renewables, sustainable international development, and reforestation projects.\n",
            "myclimate estimates that for every $30.00 spent on a carbon-reducing project, they can keep 1 ton of CO2 out of the atmosphere.\n",
            "Using those estimates, it would cost about $\u001b[1m 34.38 \u001b[0mto offset your travel emissions through myclimate.\n",
            "\n",
            "\n",
            "\u001b[1m Sustainable Travel International \u001b[0m\n",
            "Sustainable Travel International carbon offset purchases fund clean energy, biodiversity projects, and support local communities.\n",
            "Sustainable Travel International estimates that for every $16.00 spent on a carbon-reducing project, they can keep 1 ton of CO2 out of the atmosphere.\n",
            "Using those estimates, it would cost about $\u001b[1m 18.34 \u001b[0mto offset your travel emissions with Sustainable Travel International.\n"
          ]
        }
      ]
    },
    {
      "cell_type": "code",
      "source": [
        ""
      ],
      "metadata": {
        "id": "v54pTuYdZyEZ"
      },
      "execution_count": null,
      "outputs": []
    }
  ]
}